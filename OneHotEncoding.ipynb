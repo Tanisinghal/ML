{
  "nbformat": 4,
  "nbformat_minor": 0,
  "metadata": {
    "colab": {
      "name": "OneHotEncoding.ipynb",
      "provenance": [],
      "collapsed_sections": [],
      "authorship_tag": "ABX9TyOczXylHgBOyQGsj576OlIv",
      "include_colab_link": true
    },
    "kernelspec": {
      "name": "python3",
      "display_name": "Python 3"
    },
    "language_info": {
      "name": "python"
    }
  },
  "cells": [
    {
      "cell_type": "markdown",
      "metadata": {
        "id": "view-in-github",
        "colab_type": "text"
      },
      "source": [
        "<a href=\"https://colab.research.google.com/github/Tanisinghal/ML/blob/master/OneHotEncoding.ipynb\" target=\"_parent\"><img src=\"https://colab.research.google.com/assets/colab-badge.svg\" alt=\"Open In Colab\"/></a>"
      ]
    },
    {
      "cell_type": "code",
      "execution_count": 1,
      "metadata": {
        "id": "2D3ZgOmGDlxB"
      },
      "outputs": [],
      "source": [
        "import pandas as pd\n",
        "import numpy as np\n",
        "from sklearn import linear_model"
      ]
    },
    {
      "cell_type": "code",
      "source": [
        "df= pd.read_csv(\"homeprices.csv\")\n",
        "df"
      ],
      "metadata": {
        "id": "HhKjGpTwEIeW"
      },
      "execution_count": null,
      "outputs": []
    },
    {
      "cell_type": "code",
      "source": [
        "dummies=pd.get_dummies(df.town)\n",
        "dummies"
      ],
      "metadata": {
        "id": "EPQqaUknEP_p"
      },
      "execution_count": null,
      "outputs": []
    },
    {
      "cell_type": "code",
      "source": [
        "merged = pd.concat([df,dummies],axis='columns')\n",
        "merged"
      ],
      "metadata": {
        "id": "OqDR34NnEY3t"
      },
      "execution_count": null,
      "outputs": []
    },
    {
      "cell_type": "code",
      "source": [
        "final=merged.drop(['town','west windsor'],axis='columns')\n",
        "final"
      ],
      "metadata": {
        "id": "UgWVVB3jFB6R"
      },
      "execution_count": null,
      "outputs": []
    },
    {
      "cell_type": "code",
      "source": [
        "from sklearn.linear_model import LinearRegression\n",
        "from sklearn.naive_bayes import GaussianNB\n",
        "# model = LinearRegression"
      ],
      "metadata": {
        "id": "s1KNth9XJKvF"
      },
      "execution_count": 28,
      "outputs": []
    },
    {
      "cell_type": "code",
      "source": [
        "X=final.drop('price',axis='columns')\n",
        "X"
      ],
      "metadata": {
        "id": "VmbAN5mJIfzR"
      },
      "execution_count": null,
      "outputs": []
    },
    {
      "cell_type": "code",
      "source": [
        "y=final.price\n",
        "y"
      ],
      "metadata": {
        "id": "nq2YC3iUIn-y"
      },
      "execution_count": null,
      "outputs": []
    },
    {
      "cell_type": "code",
      "source": [
        "model = GaussianNB()"
      ],
      "metadata": {
        "id": "HMmabzbSKRer"
      },
      "execution_count": 29,
      "outputs": []
    },
    {
      "cell_type": "code",
      "source": [
        "model.fit(X,y)"
      ],
      "metadata": {
        "id": "1vBvpdoOIvbE"
      },
      "execution_count": null,
      "outputs": []
    },
    {
      "cell_type": "code",
      "source": [
        "model.predict([[2800,0,1]])"
      ],
      "metadata": {
        "id": "mDQLy8QcLI-G"
      },
      "execution_count": null,
      "outputs": []
    },
    {
      "cell_type": "code",
      "source": [
        "model.score(X,y)"
      ],
      "metadata": {
        "id": "qS-9vsphMAll"
      },
      "execution_count": null,
      "outputs": []
    },
    {
      "cell_type": "code",
      "source": [
        "from sklearn.preprocessing import LabelEncoder \n",
        "le = LabelEncoder()\n"
      ],
      "metadata": {
        "id": "uE4VsK-UMXnT"
      },
      "execution_count": 64,
      "outputs": []
    },
    {
      "cell_type": "code",
      "source": [
        "dfle=df\n",
        "dfle.town = le.fit_transform(dfle.town)\n",
        "dfle"
      ],
      "metadata": {
        "id": "CJBZ87ZFNwE6"
      },
      "execution_count": null,
      "outputs": []
    },
    {
      "cell_type": "code",
      "source": [
        "X= dfle[['town','area']].values\n",
        "X"
      ],
      "metadata": {
        "id": "ZgTqTbTCOjZn"
      },
      "execution_count": null,
      "outputs": []
    },
    {
      "cell_type": "code",
      "source": [
        "y=dfle.price\n",
        "y"
      ],
      "metadata": {
        "id": "OJB0n57hOpZI"
      },
      "execution_count": null,
      "outputs": []
    },
    {
      "cell_type": "code",
      "source": [
        "from sklearn.preprocessing import OneHotEncoder\n",
        "from sklearn.compose import ColumnTransformer\n",
        "ohe = OneHotEncoder(categorical_features=[0])\n",
        "\n",
        "# ct = ColumnTransformer([(\"encoder\", OneHotEncoder(), [0])], remainder = 'passthrough')"
      ],
      "metadata": {
        "id": "bGbPpaxCO1vb"
      },
      "execution_count": null,
      "outputs": []
    },
    {
      "cell_type": "code",
      "source": [
        "ct = ColumnTransformer([(\"encoder\", OneHotEncoder(), [0])], remainder = 'passthrough')"
      ],
      "metadata": {
        "id": "z-3l7FnyWGej"
      },
      "execution_count": 81,
      "outputs": []
    },
    {
      "cell_type": "code",
      "source": [
        "ct.fit_tranform(X).toarray()"
      ],
      "metadata": {
        "id": "3SFAQI42RD5a"
      },
      "execution_count": null,
      "outputs": []
    }
  ]
}